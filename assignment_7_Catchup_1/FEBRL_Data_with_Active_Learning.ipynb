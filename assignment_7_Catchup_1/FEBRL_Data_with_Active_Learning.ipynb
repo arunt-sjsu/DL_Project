{
  "cells": [
    {
      "cell_type": "markdown",
      "metadata": {
        "id": "view-in-github",
        "colab_type": "text"
      },
      "source": [
        "<a href=\"https://colab.research.google.com/github/arunt-sjsu/DL_Project/blob/main/assignment_7_Catchup_1/FEBRL_Data_with_Active_Learning.ipynb\" target=\"_parent\"><img src=\"https://colab.research.google.com/assets/colab-badge.svg\" alt=\"Open In Colab\"/></a>"
      ]
    },
    {
      "cell_type": "markdown",
      "metadata": {
        "id": "yn94EA23G5cu"
      },
      "source": [
        "# Use Active Learning to Link FEBRL People Data\n",
        "The following notebook is a replication of the active learning example using FEBRL dataset. \n",
        "\n",
        "We use dedeupe dataset to perform an active learning excercise and apply simsum classification."
      ]
    },
    {
      "cell_type": "markdown",
      "metadata": {
        "id": "S3tgpAwWG5cz"
      },
      "source": [
        "<a href=\"https://colab.research.google.com/github/rachhouse/intro-to-data-linking/blob/main/tutorial_notebooks/03_Link_FEBRL_Data_with_Active_Learning.ipynb\" target=\"_parent\"><img src=\"https://colab.research.google.com/assets/colab-badge.svg\" alt=\"Open In Colab\"></a>"
      ]
    },
    {
      "cell_type": "code",
      "execution_count": 1,
      "metadata": {
        "id": "3sxUZ5wnG5c1",
        "colab": {
          "base_uri": "https://localhost:8080/"
        },
        "outputId": "4ca51fd2-d306-4183-89a3-1797d2e07b0a"
      },
      "outputs": [
        {
          "output_type": "stream",
          "name": "stdout",
          "text": [
            "\u001b[?25l\r\u001b[K     |███▋                            | 10 kB 22.9 MB/s eta 0:00:01\r\u001b[K     |███████▎                        | 20 kB 30.1 MB/s eta 0:00:01\r\u001b[K     |██████████▉                     | 30 kB 34.2 MB/s eta 0:00:01\r\u001b[K     |██████████████▌                 | 40 kB 23.4 MB/s eta 0:00:01\r\u001b[K     |██████████████████              | 51 kB 19.7 MB/s eta 0:00:01\r\u001b[K     |█████████████████████▊          | 61 kB 20.1 MB/s eta 0:00:01\r\u001b[K     |█████████████████████████▎      | 71 kB 11.3 MB/s eta 0:00:01\r\u001b[K     |█████████████████████████████   | 81 kB 12.3 MB/s eta 0:00:01\r\u001b[K     |████████████████████████████████| 90 kB 2.6 MB/s \n",
            "\u001b[K     |████████████████████████████████| 764 kB 44.1 MB/s \n",
            "\u001b[K     |████████████████████████████████| 137 kB 69.6 MB/s \n",
            "\u001b[K     |████████████████████████████████| 944 kB 62.4 MB/s \n",
            "\u001b[K     |████████████████████████████████| 155 kB 70.2 MB/s \n",
            "\u001b[K     |████████████████████████████████| 71 kB 6.7 MB/s \n",
            "\u001b[K     |████████████████████████████████| 103 kB 52.1 MB/s \n",
            "\u001b[K     |████████████████████████████████| 79 kB 8.0 MB/s \n",
            "\u001b[K     |████████████████████████████████| 3.6 MB 86.0 MB/s \n",
            "\u001b[K     |████████████████████████████████| 46 kB 3.0 MB/s \n",
            "\u001b[K     |████████████████████████████████| 531 kB 72.5 MB/s \n",
            "\u001b[K     |████████████████████████████████| 251 kB 72.0 MB/s \n",
            "\u001b[K     |████████████████████████████████| 253 kB 85.8 MB/s \n",
            "\u001b[K     |████████████████████████████████| 787 kB 71.0 MB/s \n",
            "\u001b[K     |████████████████████████████████| 203 kB 67.3 MB/s \n",
            "\u001b[K     |████████████████████████████████| 888 kB 68.4 MB/s \n",
            "\u001b[K     |████████████████████████████████| 743 kB 72.5 MB/s \n",
            "\u001b[?25h  Building wheel for jellyfish (setup.py) ... \u001b[?25l\u001b[?25hdone\n"
          ]
        }
      ],
      "source": [
        "import requests\n",
        "\n",
        "tutorial_functions_url = \"https://raw.githubusercontent.com/rachhouse/intro-to-data-linking/main/tutorial_notebooks/linking_tutorial_functions.py\"\n",
        "r = requests.get(tutorial_functions_url)\n",
        "    \n",
        "with open(\"linking_tutorial_functions.py\", \"w\") as fh:\n",
        "  fh.write(r.text)\n",
        "    \n",
        "!pip install -q altair dedupe dedupe-variable-name jellyfish recordlinkage \n",
        "!pip install -U numpy\n"
      ]
    },
    {
      "cell_type": "code",
      "execution_count": 1,
      "metadata": {
        "id": "8E-RhjM3G5c5",
        "colab": {
          "base_uri": "https://localhost:8080/"
        },
        "outputId": "a8769469-67d4-4c95-85d5-cf80f0d7615c"
      },
      "outputs": [
        {
          "output_type": "stream",
          "name": "stderr",
          "text": [
            "INFO:root:Generating grammar tables from /usr/lib/python3.7/lib2to3/Grammar.txt\n",
            "INFO:root:Generating grammar tables from /usr/lib/python3.7/lib2to3/PatternGrammar.txt\n"
          ]
        }
      ],
      "source": [
        "import datetime\n",
        "import itertools\n",
        "import os\n",
        "import pathlib\n",
        "import re\n",
        "from typing import Any, Dict, Optional\n",
        "\n",
        "import dedupe\n",
        "import pandas as pd\n",
        "\n",
        "import linking_tutorial_functions as tutorial"
      ]
    },
    {
      "cell_type": "markdown",
      "metadata": {
        "id": "hGCphS16G5c6"
      },
      "source": [
        "## Define Working Filepaths"
      ]
    },
    {
      "cell_type": "markdown",
      "metadata": {
        "id": "ZXGJhhoaG5c7"
      },
      "source": [
        "For convenience, we'll define a `pathlib.Path` to reference our current working directory."
      ]
    },
    {
      "cell_type": "code",
      "execution_count": 2,
      "metadata": {
        "id": "ICc6kOMqG5c8",
        "colab": {
          "base_uri": "https://localhost:8080/"
        },
        "outputId": "20d614d3-c1ed-4aa1-fa14-1d33ba840fa9"
      },
      "outputs": [
        {
          "output_type": "execute_result",
          "data": {
            "text/plain": [
              "PosixPath('/content')"
            ]
          },
          "metadata": {},
          "execution_count": 2
        }
      ],
      "source": [
        "WORKING_DIR = pathlib.Path(os.path.abspath(''))\n",
        "WORKING_DIR"
      ]
    },
    {
      "cell_type": "markdown",
      "metadata": {
        "id": "SB4LuMASG5c9"
      },
      "source": [
        "## Load Training Dataset and Ground Truth Labels"
      ]
    },
    {
      "cell_type": "code",
      "execution_count": 5,
      "metadata": {
        "id": "CzCwi7ATG5c9"
      },
      "outputs": [],
      "source": [
        "df_A, df_B, df_ground_truth = tutorial.load_febrl_training_data(True)"
      ]
    },
    {
      "cell_type": "markdown",
      "metadata": {
        "id": "acFNPQ5nG5c-"
      },
      "source": [
        "Let's take a quick look at our training dataset to refresh on the columns, formats, and data."
      ]
    },
    {
      "cell_type": "code",
      "execution_count": 6,
      "metadata": {
        "id": "B8hgFrQzG5c-",
        "colab": {
          "base_uri": "https://localhost:8080/",
          "height": 411
        },
        "outputId": "e7b95c4b-ea0f-4974-9a88-8cbb24a016ae"
      },
      "outputs": [
        {
          "output_type": "execute_result",
          "data": {
            "text/html": [
              "<div>\n",
              "<style scoped>\n",
              "    .dataframe tbody tr th:only-of-type {\n",
              "        vertical-align: middle;\n",
              "    }\n",
              "\n",
              "    .dataframe tbody tr th {\n",
              "        vertical-align: top;\n",
              "    }\n",
              "\n",
              "    .dataframe thead th {\n",
              "        text-align: right;\n",
              "    }\n",
              "</style>\n",
              "<table border=\"1\" class=\"dataframe\">\n",
              "  <thead>\n",
              "    <tr style=\"text-align: right;\">\n",
              "      <th></th>\n",
              "      <th>first_name</th>\n",
              "      <th>surname</th>\n",
              "      <th>street_number</th>\n",
              "      <th>address_1</th>\n",
              "      <th>address_2</th>\n",
              "      <th>suburb</th>\n",
              "      <th>postcode</th>\n",
              "      <th>state</th>\n",
              "      <th>date_of_birth</th>\n",
              "      <th>age</th>\n",
              "      <th>phone_number</th>\n",
              "      <th>soc_sec_id</th>\n",
              "    </tr>\n",
              "    <tr>\n",
              "      <th>person_id_A</th>\n",
              "      <th></th>\n",
              "      <th></th>\n",
              "      <th></th>\n",
              "      <th></th>\n",
              "      <th></th>\n",
              "      <th></th>\n",
              "      <th></th>\n",
              "      <th></th>\n",
              "      <th></th>\n",
              "      <th></th>\n",
              "      <th></th>\n",
              "      <th></th>\n",
              "    </tr>\n",
              "  </thead>\n",
              "  <tbody>\n",
              "    <tr>\n",
              "      <th>fbc4143d-15f9-4f27-b5f0-dedbadce6616</th>\n",
              "      <td>matilda</td>\n",
              "      <td>struck</td>\n",
              "      <td>8</td>\n",
              "      <td>ballard place</td>\n",
              "      <td></td>\n",
              "      <td>west perth</td>\n",
              "      <td>2470</td>\n",
              "      <td>qld</td>\n",
              "      <td>19611002</td>\n",
              "      <td>32</td>\n",
              "      <td>03 05903135</td>\n",
              "      <td>8276847</td>\n",
              "    </tr>\n",
              "    <tr>\n",
              "      <th>48a56cad-7ba6-45e1-97cd-517ba65bdab5</th>\n",
              "      <td>lachlan</td>\n",
              "      <td>eglinton</td>\n",
              "      <td>36</td>\n",
              "      <td>kambalda crescent</td>\n",
              "      <td>villa 427</td>\n",
              "      <td>auburn</td>\n",
              "      <td>5109</td>\n",
              "      <td></td>\n",
              "      <td>19260108</td>\n",
              "      <td>27</td>\n",
              "      <td></td>\n",
              "      <td>9937958</td>\n",
              "    </tr>\n",
              "    <tr>\n",
              "      <th>b1792d21-e4be-4b86-8dea-454ffa5194c5</th>\n",
              "      <td>mikayla</td>\n",
              "      <td>asher</td>\n",
              "      <td>588</td>\n",
              "      <td>britten-jones drive</td>\n",
              "      <td></td>\n",
              "      <td>miami</td>\n",
              "      <td>4218</td>\n",
              "      <td>nsw</td>\n",
              "      <td>19251102</td>\n",
              "      <td>32</td>\n",
              "      <td>03 33770501</td>\n",
              "      <td>7017310</td>\n",
              "    </tr>\n",
              "    <tr>\n",
              "      <th>96653d73-bebc-4459-94f3-c3f0a8c514d4</th>\n",
              "      <td>grace</td>\n",
              "      <td>bristow</td>\n",
              "      <td>7</td>\n",
              "      <td></td>\n",
              "      <td>wandella park snowy</td>\n",
              "      <td>cardiff</td>\n",
              "      <td>6163</td>\n",
              "      <td>nsw</td>\n",
              "      <td>19400120</td>\n",
              "      <td></td>\n",
              "      <td>07 37864073</td>\n",
              "      <td>3535974</td>\n",
              "    </tr>\n",
              "    <tr>\n",
              "      <th>41f038b8-77c0-45a5-9e1f-e62b8637ffd1</th>\n",
              "      <td>wilson</td>\n",
              "      <td>bishop</td>\n",
              "      <td>11</td>\n",
              "      <td>chisholm street</td>\n",
              "      <td></td>\n",
              "      <td>bronte</td>\n",
              "      <td>2490</td>\n",
              "      <td>nsw</td>\n",
              "      <td>19210305</td>\n",
              "      <td>27</td>\n",
              "      <td>04 15209769</td>\n",
              "      <td>5573522</td>\n",
              "    </tr>\n",
              "  </tbody>\n",
              "</table>\n",
              "</div>"
            ],
            "text/plain": [
              "                                     first_name  ... soc_sec_id\n",
              "person_id_A                                      ...           \n",
              "fbc4143d-15f9-4f27-b5f0-dedbadce6616    matilda  ...    8276847\n",
              "48a56cad-7ba6-45e1-97cd-517ba65bdab5    lachlan  ...    9937958\n",
              "b1792d21-e4be-4b86-8dea-454ffa5194c5    mikayla  ...    7017310\n",
              "96653d73-bebc-4459-94f3-c3f0a8c514d4      grace  ...    3535974\n",
              "41f038b8-77c0-45a5-9e1f-e62b8637ffd1     wilson  ...    5573522\n",
              "\n",
              "[5 rows x 12 columns]"
            ]
          },
          "metadata": {},
          "execution_count": 6
        }
      ],
      "source": [
        "df_A.head()"
      ]
    },
    {
      "cell_type": "markdown",
      "metadata": {
        "id": "gucoMJNvG5c_"
      },
      "source": [
        "## Data Augmentation"
      ]
    },
    {
      "cell_type": "markdown",
      "metadata": {
        "id": "WJNjL3E-G5c_"
      },
      "source": [
        "We'll do minimal data augmentation before feeding our training data to `dedupe`; we just want to format the date of birth data as `mm/dd/yy`, and ensure all columns are in string format and stripped of trailing/leading whitespace. Additionally, `dedupe` requires input data to be in dictionaries, using the record id as the key and the record metadata as the value. So, we'll convert our dataframes to this format."
      ]
    },
    {
      "cell_type": "code",
      "execution_count": 7,
      "metadata": {
        "id": "ytzNm8OAG5dA"
      },
      "outputs": [],
      "source": [
        "def format_dob(dob: str) -> Optional[str]:\n",
        "    \"\"\" Transform date of birth format from YYYYMMDD to mm/dd/yy.\n",
        "        If DOB cannot be transformed, return None.\n",
        "    \"\"\"\n",
        "    try:\n",
        "        if re.match(r\"\\d{8}\", dob):\n",
        "            return (datetime.datetime.strptime(dob, \"%Y%m%d\")).strftime(\"%m/%d/%y\")\n",
        "    except:\n",
        "        pass\n",
        "\n",
        "    return None\n",
        "\n",
        "def strip_and_null(x: Any) -> Optional[str]:\n",
        "    \"\"\" Stringify incoming variable, remove trailing/leading whitespace\n",
        "        and return resulting string. Return None if resulting string is empty.\n",
        "    \"\"\"\n",
        "    x = str(x).strip()\n",
        "    \n",
        "    if x == \"\":\n",
        "        return None\n",
        "    else:\n",
        "        return x\n",
        "    \n",
        "def convert_df_to_dict(df: pd.DataFrame) -> Dict[str, Dict]:\n",
        "    \"\"\" Convert pandas DataFrame to dict keyed by record id.\n",
        "        Convert all fields to strings or Nones to satisfy dedupe.\n",
        "        Transform date format of date_of_birth field.\n",
        "    \"\"\"    \n",
        "\n",
        "    for col in df.columns:\n",
        "        df[col] = df[col].apply(lambda x: strip_and_null(x))\n",
        "\n",
        "    df[\"date_of_birth\"] = df[\"date_of_birth\"].apply(lambda x: format_dob(x))    \n",
        "\n",
        "    return df.to_dict(\"index\")"
      ]
    },
    {
      "cell_type": "code",
      "execution_count": 8,
      "metadata": {
        "id": "mhV4vpAlG5dB"
      },
      "outputs": [],
      "source": [
        "records_A = convert_df_to_dict(df_A)\n",
        "records_B = convert_df_to_dict(df_B)"
      ]
    },
    {
      "cell_type": "markdown",
      "metadata": {
        "id": "wLCG2lFaG5dB"
      },
      "source": [
        "We can examine a small sample of the resulting transformed records:"
      ]
    },
    {
      "cell_type": "code",
      "execution_count": 9,
      "metadata": {
        "id": "7HEh60EhG5dC",
        "colab": {
          "base_uri": "https://localhost:8080/"
        },
        "outputId": "056920c4-69d9-4125-ec87-a0b5b5a9c80a"
      },
      "outputs": [
        {
          "output_type": "execute_result",
          "data": {
            "text/plain": [
              "[{'address_1': 'ballard place',\n",
              "  'address_2': None,\n",
              "  'age': '32',\n",
              "  'date_of_birth': '10/02/61',\n",
              "  'first_name': 'matilda',\n",
              "  'phone_number': '03 05903135',\n",
              "  'postcode': '2470',\n",
              "  'soc_sec_id': '8276847',\n",
              "  'state': 'qld',\n",
              "  'street_number': '8',\n",
              "  'suburb': 'west perth',\n",
              "  'surname': 'struck'},\n",
              " {'address_1': 'kambalda crescent',\n",
              "  'address_2': 'villa 427',\n",
              "  'age': '27',\n",
              "  'date_of_birth': '01/08/26',\n",
              "  'first_name': 'lachlan',\n",
              "  'phone_number': None,\n",
              "  'postcode': '5109',\n",
              "  'soc_sec_id': '9937958',\n",
              "  'state': None,\n",
              "  'street_number': '36',\n",
              "  'suburb': 'auburn',\n",
              "  'surname': 'eglinton'}]"
            ]
          },
          "metadata": {},
          "execution_count": 9
        }
      ],
      "source": [
        "[records_A[k] for k in list(records_A.keys())[0:2]]"
      ]
    },
    {
      "cell_type": "markdown",
      "metadata": {
        "id": "LKCBoCpyG5dC"
      },
      "source": [
        "## Prepare Training"
      ]
    },
    {
      "cell_type": "markdown",
      "metadata": {
        "id": "VubvFHqQG5dF"
      },
      "source": [
        "When we linked our data via SimSum and supervised learning, we defined our blockers and comparators manually with `recordlinkage`. The `dedupe` library takes an active learning approach to blocking and classification and will use our feedback gathered during the labeling session to learn blocking rules and train a classifier. \n",
        "\n",
        "To prepare our `dedupe.RecordLink` object for training, first we'll define the fields that we think `dedupe` should pay attention to when matching records - these definitions will serve as the comparators. The `field` contains the name of the attribute to use for comparison, and the `type` defines the comparison type."
      ]
    },
    {
      "cell_type": "code",
      "execution_count": 22,
      "metadata": {
        "id": "VMW6irLkG5dG",
        "colab": {
          "base_uri": "https://localhost:8080/"
        },
        "outputId": "d0860700-3fcd-49c5-f55f-2efc1a9f9cbf"
      },
      "outputs": [
        {
          "output_type": "stream",
          "name": "stderr",
          "text": [
            "INFO:dedupe.canopy_index:Removing stop word re\n",
            "INFO:dedupe.training:Final predicate set:\n",
            "INFO:dedupe.training:SimplePredicate: (dayPredicate, date_of_birth)\n"
          ]
        },
        {
          "output_type": "stream",
          "name": "stdout",
          "text": [
            "CPU times: user 45 s, sys: 1.36 ms, total: 45 s\n",
            "Wall time: 44.7 s\n"
          ]
        }
      ],
      "source": [
        "%%time\n",
        "\n",
        "fields = [\n",
        "    { \"field\" : \"first_name\", \"type\" : \"Name\" },\n",
        "    { \"field\" : \"surname\", \"type\" : \"Name\" },\n",
        "    { \"field\" : \"address_1\", \"type\" : \"ShortString\" },\n",
        "    { \"field\" : \"address_2\", \"type\" : \"ShortString\" },\n",
        "    { \"field\" : \"suburb\", \"type\" : \"ShortString\" },\n",
        "    { \"field\" : \"postcode\", \"type\" : \"Exact\" },\n",
        "    { \"field\" : \"state\", \"type\" : \"Exact\" },\n",
        "    { \"field\" : \"date_of_birth\", \"type\" : \"DateTime\" },\n",
        "    { \"field\" : \"soc_sec_id\", \"type\" : \"Exact\" },\n",
        "]\n",
        "\n",
        "linker = dedupe.RecordLink(fields)\n",
        "linker.prepare_training(records_A, records_B)"
      ]
    },
    {
      "cell_type": "markdown",
      "metadata": {
        "id": "mZnuPN6iG5dG"
      },
      "source": [
        "## Active Learning Labeling Session!"
      ]
    },
    {
      "cell_type": "markdown",
      "metadata": {
        "id": "taNW1gCVG5dG"
      },
      "source": [
        "At this point, we're ready to provide feedback to `dedupe` via an active learning labeling session. For this, `dedupe` supplies a convenience method to iterate through pairs it is uncertain about. As you provide feedback for each pair, dedupe learns blocking rules and recalculates its linking model weights.\n",
        "\n",
        "You can use `y` (yes, match), `n` (no, not match), and `u` (unsure) to provide feedback on candidate links. When you're ready to exit the labeling session, use `f`."
      ]
    },
    {
      "cell_type": "code",
      "execution_count": 23,
      "metadata": {
        "id": "PbKHCUlUG5dH",
        "colab": {
          "base_uri": "https://localhost:8080/"
        },
        "outputId": "b4e701c4-f25d-48ae-a3e5-06a925edfde5"
      },
      "outputs": [
        {
          "output_type": "stream",
          "name": "stderr",
          "text": [
            "first_name : kristo\n",
            "surname : millar\n",
            "address_1 : ey place\n",
            "address_2 : student village\n",
            "suburb : manly vale\n",
            "postcode : 2574\n",
            "state : vic\n",
            "date_of_birth : 06/05/08\n",
            "soc_sec_id : 3943820\n",
            "\n",
            "first_name : kristo\n",
            "surname : millat\n",
            "address_1 : None\n",
            "address_2 : student village\n",
            "suburb : manly vale\n",
            "postcode : 2574\n",
            "state : vic\n",
            "date_of_birth : None\n",
            "soc_sec_id : 3943820\n",
            "\n",
            "0/10 positive, 0/10 negative\n",
            "Do these records refer to the same thing?\n",
            "(y)es / (n)o / (u)nsure / (f)inished\n"
          ]
        },
        {
          "name": "stdout",
          "output_type": "stream",
          "text": [
            "y\n"
          ]
        },
        {
          "output_type": "stream",
          "name": "stderr",
          "text": [
            "first_name : kiandra\n",
            "surname : dunstone\n",
            "address_1 : None\n",
            "address_2 : None\n",
            "suburb : oaklands park\n",
            "postcode : 6163\n",
            "state : wa\n",
            "date_of_birth : 10/29/11\n",
            "soc_sec_id : 5277244\n",
            "\n",
            "first_name : kiandra\n",
            "surname : dunstone\n",
            "address_1 : None\n",
            "address_2 : None\n",
            "suburb : oaklands park\n",
            "postcode : 6163\n",
            "state : wa\n",
            "date_of_birth : None\n",
            "soc_sec_id : 5277244\n",
            "\n",
            "1/10 positive, 0/10 negative\n",
            "Do these records refer to the same thing?\n",
            "(y)es / (n)o / (u)nsure / (f)inished / (p)revious\n"
          ]
        },
        {
          "name": "stdout",
          "output_type": "stream",
          "text": [
            "y\n"
          ]
        },
        {
          "output_type": "stream",
          "name": "stderr",
          "text": [
            "INFO:dedupe.training:Final predicate set:\n",
            "INFO:dedupe.training:SimplePredicate: (dayPredicate, date_of_birth)\n",
            "INFO:dedupe.training:SimplePredicate: (firstTwoTokensPredicate, address_2)\n",
            "first_name : hayden\n",
            "surname : adrain\n",
            "address_1 : None\n",
            "address_2 : calma\n",
            "suburb : concord west\n",
            "postcode : 4362\n",
            "state : wa\n",
            "date_of_birth : 08/20/86\n",
            "soc_sec_id : 9761425\n",
            "\n",
            "first_name : hayden\n",
            "surname : adrain\n",
            "address_1 : None\n",
            "address_2 : calma\n",
            "suburb : concord west\n",
            "postcode : 4362\n",
            "state : wm\n",
            "date_of_birth : None\n",
            "soc_sec_id : 9761425\n",
            "\n",
            "2/10 positive, 0/10 negative\n",
            "Do these records refer to the same thing?\n",
            "(y)es / (n)o / (u)nsure / (f)inished / (p)revious\n"
          ]
        },
        {
          "name": "stdout",
          "output_type": "stream",
          "text": [
            "y\n"
          ]
        },
        {
          "output_type": "stream",
          "name": "stderr",
          "text": [
            "INFO:dedupe.training:Final predicate set:\n",
            "INFO:dedupe.training:SimplePredicate: (wholeFieldPredicate, soc_sec_id)\n",
            "first_name : logan\n",
            "surname : mac onochie\n",
            "address_1 : mackellar crescent\n",
            "address_2 : None\n",
            "suburb : oatlands\n",
            "postcode : 4207\n",
            "state : vic\n",
            "date_of_birth : 08/13/84\n",
            "soc_sec_id : 4647965\n",
            "\n",
            "first_name : logt\n",
            "surname : mac onochie\n",
            "address_1 : None\n",
            "address_2 : None\n",
            "suburb : oatlands\n",
            "postcode : 4207\n",
            "state : vic\n",
            "date_of_birth : None\n",
            "soc_sec_id : 4648775\n",
            "\n",
            "3/10 positive, 0/10 negative\n",
            "Do these records refer to the same thing?\n",
            "(y)es / (n)o / (u)nsure / (f)inished / (p)revious\n"
          ]
        },
        {
          "name": "stdout",
          "output_type": "stream",
          "text": [
            "y\n"
          ]
        },
        {
          "output_type": "stream",
          "name": "stderr",
          "text": [
            "first_name : joshua\n",
            "surname : white\n",
            "address_1 : ash place\n",
            "address_2 : None\n",
            "suburb : None\n",
            "postcode : 4069\n",
            "state : sa\n",
            "date_of_birth : None\n",
            "soc_sec_id : 9183613\n",
            "\n",
            "first_name : soden\n",
            "surname : joshua\n",
            "address_1 : None\n",
            "address_2 : None\n",
            "suburb : newington\n",
            "postcode : 6005\n",
            "state : qld\n",
            "date_of_birth : 05/15/25\n",
            "soc_sec_id : 8231355\n",
            "\n",
            "4/10 positive, 0/10 negative\n",
            "Do these records refer to the same thing?\n",
            "(y)es / (n)o / (u)nsure / (f)inished / (p)revious\n"
          ]
        },
        {
          "name": "stdout",
          "output_type": "stream",
          "text": [
            "n\n"
          ]
        },
        {
          "output_type": "stream",
          "name": "stderr",
          "text": [
            "INFO:dedupe.training:Final predicate set:\n",
            "INFO:dedupe.training:SimplePredicate: (wholeFieldPredicate, soc_sec_id)\n",
            "INFO:dedupe.training:SimplePredicate: (commonTwoTokens, surname)\n",
            "first_name : liam\n",
            "surname : kapeller\n",
            "address_1 : None\n",
            "address_2 : None\n",
            "suburb : goshen\n",
            "postcode : 2831\n",
            "state : nsw\n",
            "date_of_birth : 12/19/69\n",
            "soc_sec_id : 8403096\n",
            "\n",
            "first_name : ali\n",
            "surname : kapelldr\n",
            "address_1 : None\n",
            "address_2 : None\n",
            "suburb : goshen\n",
            "postcode : None\n",
            "state : nsw\n",
            "date_of_birth : 12/19/69\n",
            "soc_sec_id : 8403569\n",
            "\n",
            "4/10 positive, 1/10 negative\n",
            "Do these records refer to the same thing?\n",
            "(y)es / (n)o / (u)nsure / (f)inished / (p)revious\n"
          ]
        },
        {
          "name": "stdout",
          "output_type": "stream",
          "text": [
            "y\n"
          ]
        },
        {
          "output_type": "stream",
          "name": "stderr",
          "text": [
            "first_name : riley\n",
            "surname : paine\n",
            "address_1 : stanfield close\n",
            "address_2 : wdgee street\n",
            "suburb : northampton\n",
            "postcode : 2119\n",
            "state : nsw\n",
            "date_of_birth : 03/10/98\n",
            "soc_sec_id : 3159623\n",
            "\n",
            "first_name : caitwin\n",
            "surname : donmo\n",
            "address_1 : badimara street\n",
            "address_2 : kurrajong\n",
            "suburb : rose bay\n",
            "postcode : 3805\n",
            "state : nsw\n",
            "date_of_birth : None\n",
            "soc_sec_id : 5875216\n",
            "\n",
            "5/10 positive, 1/10 negative\n",
            "Do these records refer to the same thing?\n",
            "(y)es / (n)o / (u)nsure / (f)inished / (p)revious\n"
          ]
        },
        {
          "name": "stdout",
          "output_type": "stream",
          "text": [
            "n\n"
          ]
        },
        {
          "output_type": "stream",
          "name": "stderr",
          "text": [
            "INFO:dedupe.training:Final predicate set:\n",
            "INFO:dedupe.training:SimplePredicate: (wholeFieldPredicate, soc_sec_id)\n",
            "INFO:dedupe.training:SimplePredicate: (commonTwoTokens, surname)\n",
            "INFO:dedupe.training:SimplePredicate: (dayPredicate, date_of_birth)\n",
            "first_name : harrison\n",
            "surname : snell\n",
            "address_1 : must circuit\n",
            "address_2 : northcliffe\n",
            "suburb : tweed heads\n",
            "postcode : 2154\n",
            "state : wa\n",
            "date_of_birth : 05/16/55\n",
            "soc_sec_id : 8080076\n",
            "\n",
            "first_name : lachlan\n",
            "surname : couzens\n",
            "address_1 : marlock street\n",
            "address_2 : suttor cottage\n",
            "suburb : new farm\n",
            "postcode : 2154\n",
            "state : sq\n",
            "date_of_birth : None\n",
            "soc_sec_id : 9155920\n",
            "\n",
            "5/10 positive, 2/10 negative\n",
            "Do these records refer to the same thing?\n",
            "(y)es / (n)o / (u)nsure / (f)inished / (p)revious\n"
          ]
        },
        {
          "name": "stdout",
          "output_type": "stream",
          "text": [
            "n\n"
          ]
        },
        {
          "output_type": "stream",
          "name": "stderr",
          "text": [
            "first_name : lucas\n",
            "surname : blake\n",
            "address_1 : durham place\n",
            "address_2 : None\n",
            "suburb : burpengary\n",
            "postcode : 2101\n",
            "state : vic\n",
            "date_of_birth : 04/15/08\n",
            "soc_sec_id : 4949106\n",
            "\n",
            "first_name : lucas\n",
            "surname : blake\n",
            "address_1 : durham place\n",
            "address_2 : None\n",
            "suburb : burpengary\n",
            "postcode : 2101\n",
            "state : vic\n",
            "date_of_birth : None\n",
            "soc_sec_id : 2860353\n",
            "\n",
            "5/10 positive, 3/10 negative\n",
            "Do these records refer to the same thing?\n",
            "(y)es / (n)o / (u)nsure / (f)inished / (p)revious\n"
          ]
        },
        {
          "name": "stdout",
          "output_type": "stream",
          "text": [
            "y\n"
          ]
        },
        {
          "output_type": "stream",
          "name": "stderr",
          "text": [
            "first_name : nan\n",
            "surname : lovelock\n",
            "address_1 : northbourne avenue\n",
            "address_2 : None\n",
            "suburb : peterborough\n",
            "postcode : 6646\n",
            "state : nsw\n",
            "date_of_birth : 03/23/45\n",
            "soc_sec_id : 6863486\n",
            "\n",
            "first_name : nan\n",
            "surname : lovelock\n",
            "address_1 : northbourne avenue\n",
            "address_2 : None\n",
            "suburb : peterborough\n",
            "postcode : 6646\n",
            "state : nsw\n",
            "date_of_birth : 02/03/45\n",
            "soc_sec_id : 6864386\n",
            "\n",
            "6/10 positive, 3/10 negative\n",
            "Do these records refer to the same thing?\n",
            "(y)es / (n)o / (u)nsure / (f)inished / (p)revious\n"
          ]
        },
        {
          "name": "stdout",
          "output_type": "stream",
          "text": [
            "y\n"
          ]
        },
        {
          "output_type": "stream",
          "name": "stderr",
          "text": [
            "INFO:dedupe.training:Final predicate set:\n",
            "INFO:dedupe.training:SimplePredicate: (wholeFieldPredicate, soc_sec_id)\n",
            "INFO:dedupe.training:SimplePredicate: (commonTwoTokens, surname)\n",
            "INFO:dedupe.training:SimplePredicate: (dayPredicate, date_of_birth)\n",
            "INFO:dedupe.training:SimplePredicate: (wholeFieldPredicate, address_1)\n",
            "first_name : chelsie\n",
            "surname : newey\n",
            "address_1 : knox street\n",
            "address_2 : None\n",
            "suburb : port douglas\n",
            "postcode : 6076\n",
            "state : nsw\n",
            "date_of_birth : 03/23/16\n",
            "soc_sec_id : 3745193\n",
            "\n",
            "first_name : chelsie\n",
            "surname : newey\n",
            "address_1 : knox stfeet\n",
            "address_2 : None\n",
            "suburb : port douglas\n",
            "postcode : 6076\n",
            "state : nsw\n",
            "date_of_birth : 04/23/16\n",
            "soc_sec_id : 3049157\n",
            "\n",
            "7/10 positive, 3/10 negative\n",
            "Do these records refer to the same thing?\n",
            "(y)es / (n)o / (u)nsure / (f)inished / (p)revious\n"
          ]
        },
        {
          "name": "stdout",
          "output_type": "stream",
          "text": [
            "y\n"
          ]
        },
        {
          "output_type": "stream",
          "name": "stderr",
          "text": [
            "first_name : claire\n",
            "surname : hefford\n",
            "address_1 : boolimba crescent\n",
            "address_2 : hobart private hospital (cnr argyle)\n",
            "suburb : elanora heights\n",
            "postcode : 2760\n",
            "state : vic\n",
            "date_of_birth : 07/16/65\n",
            "soc_sec_id : 9424151\n",
            "\n",
            "first_name : claire\n",
            "surname : hefford\n",
            "address_1 : boolimba frescent\n",
            "address_2 : hobart private hospital (cnr argyle)\n",
            "suburb : elanora heights\n",
            "postcode : 2760\n",
            "state : vic\n",
            "date_of_birth : 06/26/65\n",
            "soc_sec_id : 9424251\n",
            "\n",
            "8/10 positive, 3/10 negative\n",
            "Do these records refer to the same thing?\n",
            "(y)es / (n)o / (u)nsure / (f)inished / (p)revious\n"
          ]
        },
        {
          "name": "stdout",
          "output_type": "stream",
          "text": [
            "y\n"
          ]
        },
        {
          "output_type": "stream",
          "name": "stderr",
          "text": [
            "INFO:dedupe.training:Final predicate set:\n",
            "INFO:dedupe.training:SimplePredicate: (wholeFieldPredicate, address_1)\n",
            "INFO:dedupe.training:SimplePredicate: (firstTwoTokensPredicate, suburb)\n",
            "INFO:dedupe.training:SimplePredicate: (commonTwoTokens, surname)\n",
            "INFO:dedupe.training:SimplePredicate: (dayPredicate, date_of_birth)\n",
            "first_name : mia\n",
            "surname : hope\n",
            "address_1 : campbell street\n",
            "address_2 : None\n",
            "suburb : annandale\n",
            "postcode : 2560\n",
            "state : wa\n",
            "date_of_birth : 11/29/26\n",
            "soc_sec_id : 7829730\n",
            "\n",
            "first_name : madeleine\n",
            "surname : hope\n",
            "address_1 : campbell dtreet\n",
            "address_2 : None\n",
            "suburb : annandale\n",
            "postcode : 2560\n",
            "state : wa\n",
            "date_of_birth : 11/19/26\n",
            "soc_sec_id : 7829730\n",
            "\n",
            "9/10 positive, 3/10 negative\n",
            "Do these records refer to the same thing?\n",
            "(y)es / (n)o / (u)nsure / (f)inished / (p)revious\n"
          ]
        },
        {
          "name": "stdout",
          "output_type": "stream",
          "text": [
            "y\n"
          ]
        },
        {
          "output_type": "stream",
          "name": "stderr",
          "text": [
            "first_name : lydia\n",
            "surname : paine\n",
            "address_1 : dwyer street\n",
            "address_2 : None\n",
            "suburb : williamstown\n",
            "postcode : 2232\n",
            "state : nsw\n",
            "date_of_birth : 06/30/72\n",
            "soc_sec_id : 4266599\n",
            "\n",
            "first_name : lydia\n",
            "surname : paine\n",
            "address_1 : None\n",
            "address_2 : None\n",
            "suburb : williamstown\n",
            "postcode : 2232\n",
            "state : nsw\n",
            "date_of_birth : None\n",
            "soc_sec_id : 4266599\n",
            "\n",
            "10/10 positive, 3/10 negative\n",
            "Do these records refer to the same thing?\n",
            "(y)es / (n)o / (u)nsure / (f)inished / (p)revious\n"
          ]
        },
        {
          "name": "stdout",
          "output_type": "stream",
          "text": [
            "y\n"
          ]
        },
        {
          "output_type": "stream",
          "name": "stderr",
          "text": [
            "INFO:dedupe.training:Final predicate set:\n",
            "INFO:dedupe.training:SimplePredicate: (wholeFieldPredicate, suburb)\n",
            "first_name : george\n",
            "surname : petito\n",
            "address_1 : grayson street\n",
            "address_2 : None\n",
            "suburb : port pirie\n",
            "postcode : 2160\n",
            "state : wa\n",
            "date_of_birth : 09/28/85\n",
            "soc_sec_id : 8231050\n",
            "\n",
            "first_name : jorge\n",
            "surname : petito\n",
            "address_1 : grayson street\n",
            "address_2 : None\n",
            "suburb : port pkire\n",
            "postcode : 2160\n",
            "state : wa\n",
            "date_of_birth : 09/28/85\n",
            "soc_sec_id : 8231050\n",
            "\n",
            "11/10 positive, 3/10 negative\n",
            "Do these records refer to the same thing?\n",
            "(y)es / (n)o / (u)nsure / (f)inished / (p)revious\n"
          ]
        },
        {
          "name": "stdout",
          "output_type": "stream",
          "text": [
            "y\n"
          ]
        },
        {
          "output_type": "stream",
          "name": "stderr",
          "text": [
            "first_name : alice\n",
            "surname : cenin\n",
            "address_1 : vest place\n",
            "address_2 : None\n",
            "suburb : jan juc\n",
            "postcode : 2037\n",
            "state : nsw\n",
            "date_of_birth : 02/22/04\n",
            "soc_sec_id : 8304615\n",
            "\n",
            "first_name : alicia\n",
            "surname : cenin\n",
            "address_1 : None\n",
            "address_2 : None\n",
            "suburb : jan uud\n",
            "postcode : 2037\n",
            "state : nsw\n",
            "date_of_birth : 02/22/04\n",
            "soc_sec_id : 8304615\n",
            "\n",
            "12/10 positive, 3/10 negative\n",
            "Do these records refer to the same thing?\n",
            "(y)es / (n)o / (u)nsure / (f)inished / (p)revious\n"
          ]
        },
        {
          "name": "stdout",
          "output_type": "stream",
          "text": [
            "y\n"
          ]
        },
        {
          "output_type": "stream",
          "name": "stderr",
          "text": [
            "INFO:dedupe.training:Final predicate set:\n",
            "INFO:dedupe.training:SimplePredicate: (wholeFieldPredicate, soc_sec_id)\n",
            "INFO:dedupe.training:LevenshteinSearchPredicate: (1, address_1)\n",
            "INFO:dedupe.training:SimplePredicate: (commonTwoTokens, surname)\n",
            "INFO:dedupe.training:SimplePredicate: (dayPredicate, date_of_birth)\n",
            "first_name : mitchell\n",
            "surname : leslie\n",
            "address_1 : None\n",
            "address_2 : None\n",
            "suburb : campsie\n",
            "postcode : 2009\n",
            "state : vic\n",
            "date_of_birth : 12/20/04\n",
            "soc_sec_id : 8050986\n",
            "\n",
            "first_name : nan\n",
            "surname : leslie\n",
            "address_1 : southern close\n",
            "address_2 : eldwick\n",
            "suburb : marsden\n",
            "postcode : 6056\n",
            "state : vic\n",
            "date_of_birth : None\n",
            "soc_sec_id : 6983093\n",
            "\n",
            "13/10 positive, 3/10 negative\n",
            "Do these records refer to the same thing?\n",
            "(y)es / (n)o / (u)nsure / (f)inished / (p)revious\n"
          ]
        },
        {
          "name": "stdout",
          "output_type": "stream",
          "text": [
            "n\n"
          ]
        },
        {
          "output_type": "stream",
          "name": "stderr",
          "text": [
            "first_name : lauren\n",
            "surname : thorpe\n",
            "address_1 : hackett garden\n",
            "address_2 : palm lake resort\n",
            "suburb : toowoomba\n",
            "postcode : 4153\n",
            "state : nsw\n",
            "date_of_birth : 10/01/32\n",
            "soc_sec_id : 7431165\n",
            "\n",
            "first_name : hugo\n",
            "surname : thorpe\n",
            "address_1 : None\n",
            "address_2 : None\n",
            "suburb : padstow\n",
            "postcode : 2195\n",
            "state : nsw\n",
            "date_of_birth : None\n",
            "soc_sec_id : 3685206\n",
            "\n",
            "13/10 positive, 4/10 negative\n",
            "Do these records refer to the same thing?\n",
            "(y)es / (n)o / (u)nsure / (f)inished / (p)revious\n"
          ]
        },
        {
          "name": "stdout",
          "output_type": "stream",
          "text": [
            "n\n"
          ]
        },
        {
          "output_type": "stream",
          "name": "stderr",
          "text": [
            "first_name : alex\n",
            "surname : mckone\n",
            "address_1 : madigan street\n",
            "address_2 : None\n",
            "suburb : berwick\n",
            "postcode : 2250\n",
            "state : vic\n",
            "date_of_birth : None\n",
            "soc_sec_id : 7314026\n",
            "\n",
            "first_name : alex\n",
            "surname : mckone\n",
            "address_1 : madigan srteet\n",
            "address_2 : None\n",
            "suburb : berwick\n",
            "postcode : 2250\n",
            "state : vic\n",
            "date_of_birth : None\n",
            "soc_sec_id : 7319426\n",
            "\n",
            "13/10 positive, 5/10 negative\n",
            "Do these records refer to the same thing?\n",
            "(y)es / (n)o / (u)nsure / (f)inished / (p)revious\n"
          ]
        },
        {
          "name": "stdout",
          "output_type": "stream",
          "text": [
            "y\n"
          ]
        },
        {
          "output_type": "stream",
          "name": "stderr",
          "text": [
            "first_name : ava\n",
            "surname : manzie\n",
            "address_1 : archibald street\n",
            "address_2 : None\n",
            "suburb : bayview\n",
            "postcode : 5085\n",
            "state : nsw\n",
            "date_of_birth : None\n",
            "soc_sec_id : 9174625\n",
            "\n",
            "first_name : ava\n",
            "surname : manzie\n",
            "address_1 : archibaldkestreet\n",
            "address_2 : None\n",
            "suburb : bayview\n",
            "postcode : 5085\n",
            "state : nsw\n",
            "date_of_birth : None\n",
            "soc_sec_id : 7785557\n",
            "\n",
            "14/10 positive, 5/10 negative\n",
            "Do these records refer to the same thing?\n",
            "(y)es / (n)o / (u)nsure / (f)inished / (p)revious\n"
          ]
        },
        {
          "name": "stdout",
          "output_type": "stream",
          "text": [
            "y\n"
          ]
        },
        {
          "output_type": "stream",
          "name": "stderr",
          "text": [
            "INFO:dedupe.training:Final predicate set:\n",
            "INFO:dedupe.training:SimplePredicate: (wholeFieldPredicate, soc_sec_id)\n",
            "INFO:dedupe.training:SimplePredicate: (firstTokenPredicate, address_1)\n",
            "INFO:dedupe.training:SimplePredicate: (commonTwoTokens, surname)\n",
            "INFO:dedupe.training:SimplePredicate: (dayPredicate, date_of_birth)\n",
            "first_name : nan\n",
            "surname : zimmermann\n",
            "address_1 : warby place\n",
            "address_2 : None\n",
            "suburb : bongaree\n",
            "postcode : 2747\n",
            "state : nsw\n",
            "date_of_birth : 10/10/12\n",
            "soc_sec_id : 6835983\n",
            "\n",
            "first_name : nan\n",
            "surname : zimmermann\n",
            "address_1 : webb place\n",
            "address_2 : None\n",
            "suburb : bongaree\n",
            "postcode : 2747\n",
            "state : nsw\n",
            "date_of_birth : None\n",
            "soc_sec_id : 6897928\n",
            "\n",
            "15/10 positive, 5/10 negative\n",
            "Do these records refer to the same thing?\n",
            "(y)es / (n)o / (u)nsure / (f)inished / (p)revious\n"
          ]
        },
        {
          "name": "stdout",
          "output_type": "stream",
          "text": [
            "y\n"
          ]
        },
        {
          "output_type": "stream",
          "name": "stderr",
          "text": [
            "INFO:dedupe.training:Final predicate set:\n",
            "INFO:dedupe.training:LevenshteinSearchPredicate: (2, address_1)\n",
            "INFO:dedupe.training:SimplePredicate: (wholeFieldPredicate, soc_sec_id)\n",
            "INFO:dedupe.training:SimplePredicate: (commonTwoTokens, surname)\n",
            "INFO:dedupe.training:SimplePredicate: (dayPredicate, date_of_birth)\n",
            "first_name : cameron\n",
            "surname : gully\n",
            "address_1 : holyman street\n",
            "address_2 : burong\n",
            "suburb : chandler\n",
            "postcode : 2042\n",
            "state : None\n",
            "date_of_birth : 10/29/52\n",
            "soc_sec_id : 9881065\n",
            "\n",
            "first_name : cameron\n",
            "surname : gully\n",
            "address_1 : holymandreet\n",
            "address_2 : burong\n",
            "suburb : chandler\n",
            "postcode : 2042\n",
            "state : None\n",
            "date_of_birth : None\n",
            "soc_sec_id : 9883375\n",
            "\n",
            "16/10 positive, 5/10 negative\n",
            "Do these records refer to the same thing?\n",
            "(y)es / (n)o / (u)nsure / (f)inished / (p)revious\n"
          ]
        },
        {
          "name": "stdout",
          "output_type": "stream",
          "text": [
            "y\n"
          ]
        },
        {
          "output_type": "stream",
          "name": "stderr",
          "text": [
            "INFO:dedupe.training:Final predicate set:\n",
            "INFO:dedupe.training:SimplePredicate: (wholeFieldPredicate, suburb)\n",
            "INFO:dedupe.training:SimplePredicate: (dayPredicate, date_of_birth)\n",
            "first_name : zachary\n",
            "surname : mccarthy\n",
            "address_1 : crick place\n",
            "address_2 : st pauls college\n",
            "suburb : eight mile plains\n",
            "postcode : 3630\n",
            "state : nsw\n",
            "date_of_birth : None\n",
            "soc_sec_id : 3065989\n",
            "\n",
            "first_name : zachary\n",
            "surname : belavckc\n",
            "address_1 : crick pmace\n",
            "address_2 : None\n",
            "suburb : None\n",
            "postcode : 3630\n",
            "state : nsw\n",
            "date_of_birth : None\n",
            "soc_sec_id : 3065989\n",
            "\n",
            "17/10 positive, 5/10 negative\n",
            "Do these records refer to the same thing?\n",
            "(y)es / (n)o / (u)nsure / (f)inished / (p)revious\n"
          ]
        },
        {
          "name": "stdout",
          "output_type": "stream",
          "text": [
            "y\n"
          ]
        },
        {
          "output_type": "stream",
          "name": "stderr",
          "text": [
            "first_name : david\n",
            "surname : campbell\n",
            "address_1 : bungaree crescent\n",
            "address_2 : None\n",
            "suburb : summer hill\n",
            "postcode : 2208\n",
            "state : nsw\n",
            "date_of_birth : 12/22/30\n",
            "soc_sec_id : 9836171\n",
            "\n",
            "first_name : david\n",
            "surname : boulsyer\n",
            "address_1 : bungaree crescent\n",
            "address_2 : None\n",
            "suburb : summervhill\n",
            "postcode : 2208\n",
            "state : nsw\n",
            "date_of_birth : 11/22/30\n",
            "soc_sec_id : 9836171\n",
            "\n",
            "18/10 positive, 5/10 negative\n",
            "Do these records refer to the same thing?\n",
            "(y)es / (n)o / (u)nsure / (f)inished / (p)revious\n"
          ]
        },
        {
          "name": "stdout",
          "output_type": "stream",
          "text": [
            "y\n"
          ]
        },
        {
          "output_type": "stream",
          "name": "stderr",
          "text": [
            "INFO:dedupe.training:Final predicate set:\n",
            "INFO:dedupe.training:SimplePredicate: (wholeFieldPredicate, suburb)\n",
            "INFO:dedupe.training:SimplePredicate: (wholeFieldPredicate, soc_sec_id)\n",
            "first_name : lauren\n",
            "surname : badman\n",
            "address_1 : kidston crescent\n",
            "address_2 : None\n",
            "suburb : black rock\n",
            "postcode : 2170\n",
            "state : vic\n",
            "date_of_birth : 01/11/57\n",
            "soc_sec_id : 4546980\n",
            "\n",
            "first_name : lauren\n",
            "surname : badman\n",
            "address_1 : kidston crescent\n",
            "address_2 : None\n",
            "suburb : blackzrock\n",
            "postcode : 2170\n",
            "state : vic\n",
            "date_of_birth : 01/11/57\n",
            "soc_sec_id : 7032253\n",
            "\n",
            "19/10 positive, 5/10 negative\n",
            "Do these records refer to the same thing?\n",
            "(y)es / (n)o / (u)nsure / (f)inished / (p)revious\n"
          ]
        },
        {
          "name": "stdout",
          "output_type": "stream",
          "text": [
            "y\n"
          ]
        },
        {
          "output_type": "stream",
          "name": "stderr",
          "text": [
            "first_name : caitlin\n",
            "surname : ziedas\n",
            "address_1 : aronson crescent\n",
            "address_2 : sefton park\n",
            "suburb : geelong east\n",
            "postcode : 2030\n",
            "state : wa\n",
            "date_of_birth : 09/11/69\n",
            "soc_sec_id : 2600435\n",
            "\n",
            "first_name : caitlin\n",
            "surname : ziedas\n",
            "address_1 : aronson crescent\n",
            "address_2 : sefton park\n",
            "suburb : geelong dast\n",
            "postcode : 2030\n",
            "state : wa\n",
            "date_of_birth : 09/11/69\n",
            "soc_sec_id : 2032313\n",
            "\n",
            "20/10 positive, 5/10 negative\n",
            "Do these records refer to the same thing?\n",
            "(y)es / (n)o / (u)nsure / (f)inished / (p)revious\n"
          ]
        },
        {
          "name": "stdout",
          "output_type": "stream",
          "text": [
            "y\n"
          ]
        },
        {
          "output_type": "stream",
          "name": "stderr",
          "text": [
            "INFO:dedupe.training:Final predicate set:\n",
            "INFO:dedupe.training:SimplePredicate: (wholeFieldPredicate, suburb)\n",
            "INFO:dedupe.training:SimplePredicate: (wholeFieldPredicate, soc_sec_id)\n",
            "INFO:dedupe.training:SimplePredicate: (dayPredicate, date_of_birth)\n",
            "first_name : michael\n",
            "surname : bligh\n",
            "address_1 : fenwick place\n",
            "address_2 : None\n",
            "suburb : None\n",
            "postcode : 3812\n",
            "state : nsw\n",
            "date_of_birth : None\n",
            "soc_sec_id : 1712430\n",
            "\n",
            "first_name : michael\n",
            "surname : ottewelll\n",
            "address_1 : mcintosh street\n",
            "address_2 : glenachcrawne\n",
            "suburb : port lincoln\n",
            "postcode : 6009\n",
            "state : nsw\n",
            "date_of_birth : None\n",
            "soc_sec_id : 3486093\n",
            "\n",
            "21/10 positive, 5/10 negative\n",
            "Do these records refer to the same thing?\n",
            "(y)es / (n)o / (u)nsure / (f)inished / (p)revious\n"
          ]
        },
        {
          "name": "stdout",
          "output_type": "stream",
          "text": [
            "n\n"
          ]
        },
        {
          "output_type": "stream",
          "name": "stderr",
          "text": [
            "first_name : zachary\n",
            "surname : white\n",
            "address_1 : scarlett street\n",
            "address_2 : None\n",
            "suburb : waterman\n",
            "postcode : 3037\n",
            "state : nsw\n",
            "date_of_birth : 01/09/53\n",
            "soc_sec_id : 9279362\n",
            "\n",
            "first_name : zachary\n",
            "surname : belavckc\n",
            "address_1 : crick pmace\n",
            "address_2 : None\n",
            "suburb : None\n",
            "postcode : 3630\n",
            "state : nsw\n",
            "date_of_birth : None\n",
            "soc_sec_id : 3065989\n",
            "\n",
            "21/10 positive, 6/10 negative\n",
            "Do these records refer to the same thing?\n",
            "(y)es / (n)o / (u)nsure / (f)inished / (p)revious\n"
          ]
        },
        {
          "name": "stdout",
          "output_type": "stream",
          "text": [
            "n\n"
          ]
        },
        {
          "output_type": "stream",
          "name": "stderr",
          "text": [
            "first_name : joshua\n",
            "surname : fullgrabe\n",
            "address_1 : vickers crescent\n",
            "address_2 : None\n",
            "suburb : bonnyrigg\n",
            "postcode : 7000\n",
            "state : wa\n",
            "date_of_birth : 01/08/52\n",
            "soc_sec_id : 4846428\n",
            "\n",
            "first_name : joshua\n",
            "surname : fullgrabe\n",
            "address_1 : vickers crescent\n",
            "address_2 : None\n",
            "suburb : bonnyrieg\n",
            "postcode : None\n",
            "state : wa\n",
            "date_of_birth : 10/08/52\n",
            "soc_sec_id : 4846482\n",
            "\n",
            "21/10 positive, 7/10 negative\n",
            "Do these records refer to the same thing?\n",
            "(y)es / (n)o / (u)nsure / (f)inished / (p)revious\n"
          ]
        },
        {
          "name": "stdout",
          "output_type": "stream",
          "text": [
            "y\n"
          ]
        },
        {
          "output_type": "stream",
          "name": "stderr",
          "text": [
            "first_name : justin\n",
            "surname : clarke\n",
            "address_1 : rolph place\n",
            "address_2 : the heights\n",
            "suburb : mullewa\n",
            "postcode : 4169\n",
            "state : vic\n",
            "date_of_birth : None\n",
            "soc_sec_id : 1894910\n",
            "\n",
            "first_name : justin\n",
            "surname : clarke\n",
            "address_1 : rolph place\n",
            "address_2 : the heights\n",
            "suburb : mulea\n",
            "postcode : 4169\n",
            "state : vic\n",
            "date_of_birth : None\n",
            "soc_sec_id : 1891490\n",
            "\n",
            "22/10 positive, 7/10 negative\n",
            "Do these records refer to the same thing?\n",
            "(y)es / (n)o / (u)nsure / (f)inished / (p)revious\n"
          ]
        },
        {
          "name": "stdout",
          "output_type": "stream",
          "text": [
            "y\n"
          ]
        },
        {
          "output_type": "stream",
          "name": "stderr",
          "text": [
            "INFO:dedupe.training:Final predicate set:\n",
            "INFO:dedupe.training:LevenshteinSearchPredicate: (1, suburb)\n",
            "INFO:dedupe.training:SimplePredicate: (wholeFieldPredicate, soc_sec_id)\n",
            "first_name : amy\n",
            "surname : maliyasena\n",
            "address_1 : cowper street\n",
            "address_2 : None\n",
            "suburb : surrey hills\n",
            "postcode : 4120\n",
            "state : nsw\n",
            "date_of_birth : 04/06/62\n",
            "soc_sec_id : 2730947\n",
            "\n",
            "first_name : amy\n",
            "surname : maliyasena\n",
            "address_1 : cowper street\n",
            "address_2 : None\n",
            "suburb : surreyh ills\n",
            "postcode : 4120\n",
            "state : nsw\n",
            "date_of_birth : 04/06/62\n",
            "soc_sec_id : 2730974\n",
            "\n",
            "23/10 positive, 7/10 negative\n",
            "Do these records refer to the same thing?\n",
            "(y)es / (n)o / (u)nsure / (f)inished / (p)revious\n"
          ]
        },
        {
          "name": "stdout",
          "output_type": "stream",
          "text": [
            "y\n"
          ]
        },
        {
          "output_type": "stream",
          "name": "stderr",
          "text": [
            "INFO:dedupe.training:Final predicate set:\n",
            "INFO:dedupe.training:LevenshteinSearchPredicate: (1, suburb)\n",
            "INFO:dedupe.training:SimplePredicate: (wholeFieldPredicate, soc_sec_id)\n",
            "INFO:dedupe.training:SimplePredicate: (firstTwoTokensPredicate, address_2)\n",
            "first_name : jade\n",
            "surname : chorley\n",
            "address_1 : weddin circuit\n",
            "address_2 : kurrajong\n",
            "suburb : geraldton\n",
            "postcode : 2745\n",
            "state : nsw\n",
            "date_of_birth : 04/07/72\n",
            "soc_sec_id : 8088172\n",
            "\n",
            "first_name : jade\n",
            "surname : chorley\n",
            "address_1 : weddin circuit\n",
            "address_2 : kurrajong\n",
            "suburb : None\n",
            "postcode : 2752\n",
            "state : nsw\n",
            "date_of_birth : 04/07/72\n",
            "soc_sec_id : 8088272\n",
            "\n",
            "24/10 positive, 7/10 negative\n",
            "Do these records refer to the same thing?\n",
            "(y)es / (n)o / (u)nsure / (f)inished / (p)revious\n"
          ]
        },
        {
          "name": "stdout",
          "output_type": "stream",
          "text": [
            "y\n"
          ]
        },
        {
          "output_type": "stream",
          "name": "stderr",
          "text": [
            "INFO:dedupe.training:Final predicate set:\n",
            "INFO:dedupe.training:SimplePredicate: (wholeFieldPredicate, suburb)\n",
            "INFO:dedupe.training:SimplePredicate: (wholeFieldPredicate, address_1)\n",
            "INFO:dedupe.training:SimplePredicate: (wholeFieldPredicate, soc_sec_id)\n",
            "first_name : kye\n",
            "surname : butt\n",
            "address_1 : goldner circuit\n",
            "address_2 : None\n",
            "suburb : crestmead\n",
            "postcode : 4178\n",
            "state : sa\n",
            "date_of_birth : 06/06/89\n",
            "soc_sec_id : 6592551\n",
            "\n",
            "first_name : kye\n",
            "surname : butt\n",
            "address_1 : goldnerfcfrcuit\n",
            "address_2 : None\n",
            "suburb : crestmlead\n",
            "postcode : 4178\n",
            "state : sa\n",
            "date_of_birth : 06/06/89\n",
            "soc_sec_id : 6592552\n",
            "\n",
            "25/10 positive, 7/10 negative\n",
            "Do these records refer to the same thing?\n",
            "(y)es / (n)o / (u)nsure / (f)inished / (p)revious\n"
          ]
        },
        {
          "name": "stdout",
          "output_type": "stream",
          "text": [
            "y\n"
          ]
        },
        {
          "output_type": "stream",
          "name": "stderr",
          "text": [
            "first_name : alana\n",
            "surname : morrison\n",
            "address_1 : madsen place\n",
            "address_2 : None\n",
            "suburb : None\n",
            "postcode : 2540\n",
            "state : nsw\n",
            "date_of_birth : 04/05/02\n",
            "soc_sec_id : 8994519\n",
            "\n",
            "first_name : alana\n",
            "surname : nan\n",
            "address_1 : None\n",
            "address_2 : None\n",
            "suburb : manunda\n",
            "postcode : 4024\n",
            "state : qld\n",
            "date_of_birth : None\n",
            "soc_sec_id : 1736637\n",
            "\n",
            "26/10 positive, 7/10 negative\n",
            "Do these records refer to the same thing?\n",
            "(y)es / (n)o / (u)nsure / (f)inished / (p)revious\n"
          ]
        },
        {
          "name": "stdout",
          "output_type": "stream",
          "text": [
            "n\n"
          ]
        },
        {
          "output_type": "stream",
          "name": "stderr",
          "text": [
            "INFO:dedupe.training:Final predicate set:\n",
            "INFO:dedupe.training:SimplePredicate: (sameSevenCharStartPredicate, suburb)\n",
            "INFO:dedupe.training:SimplePredicate: (dayPredicate, date_of_birth)\n",
            "INFO:dedupe.training:SimplePredicate: (wholeFieldPredicate, soc_sec_id)\n",
            "INFO:dedupe.training:SimplePredicate: (firstTwoTokensPredicate, address_2)\n",
            "first_name : connor\n",
            "surname : petrikowski\n",
            "address_1 : archdall street\n",
            "address_2 : None\n",
            "suburb : whalan\n",
            "postcode : 7006\n",
            "state : vic\n",
            "date_of_birth : 11/18/37\n",
            "soc_sec_id : 3674490\n",
            "\n",
            "first_name : louis\n",
            "surname : trafcrati\n",
            "address_1 : None\n",
            "address_2 : tilburoo\n",
            "suburb : None\n",
            "postcode : 2518\n",
            "state : vic\n",
            "date_of_birth : 05/12/38\n",
            "soc_sec_id : 1913191\n",
            "\n",
            "26/10 positive, 8/10 negative\n",
            "Do these records refer to the same thing?\n",
            "(y)es / (n)o / (u)nsure / (f)inished / (p)revious\n"
          ]
        },
        {
          "name": "stdout",
          "output_type": "stream",
          "text": [
            "n\n"
          ]
        },
        {
          "output_type": "stream",
          "name": "stderr",
          "text": [
            "first_name : sophie\n",
            "surname : durban\n",
            "address_1 : maygar street\n",
            "address_2 : glen ayre\n",
            "suburb : burleigh waters\n",
            "postcode : 3084\n",
            "state : vic\n",
            "date_of_birth : 09/24/25\n",
            "soc_sec_id : 2543162\n",
            "\n",
            "first_name : sophie\n",
            "surname : durban\n",
            "address_1 : maygar street\n",
            "address_2 : None\n",
            "suburb : east melbourne\n",
            "postcode : 3084\n",
            "state : vic\n",
            "date_of_birth : 03/24/25\n",
            "soc_sec_id : 2543262\n",
            "\n",
            "26/10 positive, 9/10 negative\n",
            "Do these records refer to the same thing?\n",
            "(y)es / (n)o / (u)nsure / (f)inished / (p)revious\n"
          ]
        },
        {
          "name": "stdout",
          "output_type": "stream",
          "text": [
            "n\n"
          ]
        },
        {
          "output_type": "stream",
          "name": "stderr",
          "text": [
            "first_name : joshua\n",
            "surname : beelitz\n",
            "address_1 : None\n",
            "address_2 : None\n",
            "suburb : margaret river\n",
            "postcode : 2204\n",
            "state : vic\n",
            "date_of_birth : 02/10/77\n",
            "soc_sec_id : 2754936\n",
            "\n",
            "first_name : joshua\n",
            "surname : van meer\n",
            "address_1 : barnard circuit\n",
            "address_2 : None\n",
            "suburb : yarraville\n",
            "postcode : 2750\n",
            "state : vic\n",
            "date_of_birth : 12/01/79\n",
            "soc_sec_id : 8908531\n",
            "\n",
            "26/10 positive, 10/10 negative\n",
            "Do these records refer to the same thing?\n",
            "(y)es / (n)o / (u)nsure / (f)inished / (p)revious\n"
          ]
        },
        {
          "name": "stdout",
          "output_type": "stream",
          "text": [
            "n\n"
          ]
        },
        {
          "output_type": "stream",
          "name": "stderr",
          "text": [
            "first_name : dylan\n",
            "surname : paine\n",
            "address_1 : macalister crescent\n",
            "address_2 : westmead accom\n",
            "suburb : None\n",
            "postcode : 2148\n",
            "state : sa\n",
            "date_of_birth : None\n",
            "soc_sec_id : 2677567\n",
            "\n",
            "first_name : alana\n",
            "surname : paine\n",
            "address_1 : None\n",
            "address_2 : None\n",
            "suburb : nicholls\n",
            "postcode : 3821\n",
            "state : qld\n",
            "date_of_birth : 04/21/13\n",
            "soc_sec_id : 8636055\n",
            "\n",
            "26/10 positive, 11/10 negative\n",
            "Do these records refer to the same thing?\n",
            "(y)es / (n)o / (u)nsure / (f)inished / (p)revious\n"
          ]
        },
        {
          "name": "stdout",
          "output_type": "stream",
          "text": [
            "f\n"
          ]
        },
        {
          "output_type": "stream",
          "name": "stderr",
          "text": [
            "Finished labeling\n"
          ]
        }
      ],
      "source": [
        "dedupe.console_label(linker)"
      ]
    },
    {
      "cell_type": "markdown",
      "metadata": {
        "id": "BCKnlReIG5dH"
      },
      "source": [
        "We can now train our linker, based on the labeling session feedback."
      ]
    },
    {
      "cell_type": "code",
      "execution_count": 24,
      "metadata": {
        "id": "XJ_r4-WpG5dH",
        "colab": {
          "base_uri": "https://localhost:8080/"
        },
        "outputId": "090e4aa4-9c61-4291-de98-674dd8d8ef8b"
      },
      "outputs": [
        {
          "output_type": "stream",
          "name": "stderr",
          "text": [
            "INFO:rlr.crossvalidation:using cross validation to find optimum alpha...\n",
            "INFO:rlr.crossvalidation:optimum alpha: 0.000100, score 0.7109724930312558\n",
            "INFO:dedupe.training:Final predicate set:\n",
            "INFO:dedupe.training:(SimplePredicate: (wholeFieldPredicate, postcode), TfidfTextSearchPredicate: (0.2, first_name))\n",
            "INFO:dedupe.training:(SimplePredicate: (threeDayPredicate, date_of_birth), PartialPredicate: (fingerprint, surname, Surname), SimplePredicate: (commonFourGram, first_name))\n",
            "INFO:dedupe.training:(SimplePredicate: (commonTwoTokens, surname), PartialPredicate: (sameFiveCharStartPredicate, surname, Surname), LevenshteinSearchPredicate: (4, suburb))\n",
            "INFO:dedupe.training:(SimplePredicate: (doubleMetaphone, suburb), PartialIndexLevenshteinSearchPredicate: (3, surname, Surname), SimplePredicate: (exclusiveMonthPredicate, date_of_birth))\n",
            "INFO:dedupe.training:(SimplePredicate: (wholeFieldPredicate, date_of_birth), PartialIndexTfidfNGramSearchPredicate: (0.2, first_name, Surname), SimplePredicate: (wholeFieldPredicate, state))\n",
            "INFO:dedupe.training:(SimplePredicate: (fingerprint, address_1), PartialPredicate: (commonSixGram, surname, Surname), SimplePredicate: (commonSixGram, first_name))\n"
          ]
        },
        {
          "output_type": "stream",
          "name": "stdout",
          "text": [
            "CPU times: user 12.4 s, sys: 516 ms, total: 12.9 s\n",
            "Wall time: 12.3 s\n"
          ]
        }
      ],
      "source": [
        "%%time\n",
        "linker.train()"
      ]
    },
    {
      "cell_type": "markdown",
      "metadata": {
        "id": "V82UHwbJG5dH"
      },
      "source": [
        "Let's persist our training data (captured during in the labeling session), as well as the learned model weights."
      ]
    },
    {
      "cell_type": "code",
      "execution_count": 25,
      "metadata": {
        "id": "5d-LgNFiG5dH"
      },
      "outputs": [],
      "source": [
        "ACTIVE_LEARNING_DIR = WORKING_DIR / \"dedupe_active_learning\"\n",
        "ACTIVE_LEARNING_DIR.mkdir(parents=True, exist_ok=True)\n",
        "\n",
        "SETTINGS_FILE = ACTIVE_LEARNING_DIR / \"dedupe_learned_settings\"\n",
        "TRAINING_FILE = ACTIVE_LEARNING_DIR / \"dedupe_training.json\"\n",
        "\n",
        "with open(TRAINING_FILE, \"w\") as fh:\n",
        "    linker.write_training(fh)\n",
        "    \n",
        "with open(SETTINGS_FILE, \"wb\") as sf:\n",
        "    linker.write_settings(sf)"
      ]
    },
    {
      "cell_type": "markdown",
      "metadata": {
        "id": "1OrVpLvAG5dI"
      },
      "source": [
        "## Examine Learned Blockers"
      ]
    },
    {
      "cell_type": "markdown",
      "metadata": {
        "id": "qU9tIPj_G5dI"
      },
      "source": [
        "Now, let's take a look at the predicates (blockers) that `dedupe` learned during our active learning labeling session. Note that `dedupe` can learn composite predicates/blockers, i.e. individual predicates can be combined with logical operators."
      ]
    },
    {
      "cell_type": "code",
      "execution_count": 26,
      "metadata": {
        "id": "ZQjxmS7aG5dI",
        "colab": {
          "base_uri": "https://localhost:8080/"
        },
        "outputId": "5bfba2c2-9570-47e8-b9bd-055f8b59857b"
      },
      "outputs": [
        {
          "output_type": "execute_result",
          "data": {
            "text/plain": [
              "((SimplePredicate: (wholeFieldPredicate, postcode),\n",
              "  TfidfTextSearchPredicate: (0.2, first_name)),\n",
              " (SimplePredicate: (threeDayPredicate, date_of_birth),\n",
              "  PartialPredicate: (fingerprint, surname, Surname),\n",
              "  SimplePredicate: (commonFourGram, first_name)),\n",
              " (SimplePredicate: (commonTwoTokens, surname),\n",
              "  PartialPredicate: (sameFiveCharStartPredicate, surname, Surname),\n",
              "  LevenshteinSearchPredicate: (4, suburb)),\n",
              " (SimplePredicate: (doubleMetaphone, suburb),\n",
              "  PartialIndexLevenshteinSearchPredicate: (3, surname, Surname),\n",
              "  SimplePredicate: (exclusiveMonthPredicate, date_of_birth)),\n",
              " (SimplePredicate: (wholeFieldPredicate, date_of_birth),\n",
              "  PartialIndexTfidfNGramSearchPredicate: (0.2, first_name, Surname),\n",
              "  SimplePredicate: (wholeFieldPredicate, state)),\n",
              " (SimplePredicate: (fingerprint, address_1),\n",
              "  PartialPredicate: (commonSixGram, surname, Surname),\n",
              "  SimplePredicate: (commonSixGram, first_name)))"
            ]
          },
          "metadata": {},
          "execution_count": 26
        }
      ],
      "source": [
        "linker.predicates"
      ]
    },
    {
      "cell_type": "markdown",
      "metadata": {
        "id": "lL1YeU6jG5dJ"
      },
      "source": [
        "Next, let's examine the resulting candidate pairs and look at our blocking efficiency. The `.pairs` method will give us all candidate record pairs that are generated by blocking with the learned blockers."
      ]
    },
    {
      "cell_type": "code",
      "execution_count": 15,
      "metadata": {
        "id": "aNI8gwfNG5dJ",
        "colab": {
          "base_uri": "https://localhost:8080/"
        },
        "outputId": "87aeb77b-f787-423f-dcda-5f3a883e57ce"
      },
      "outputs": [
        {
          "output_type": "stream",
          "name": "stdout",
          "text": [
            "0 candidate pairs generated from blocking.\n"
          ]
        }
      ],
      "source": [
        "candidate_pairs = [x for x in linker.pairs(records_A, records_B)]\n",
        "print(f\"{len(candidate_pairs):,} candidate pairs generated from blocking.\")"
      ]
    },
    {
      "cell_type": "markdown",
      "metadata": {
        "id": "t-XdIsxzG5dK"
      },
      "source": [
        "You'll notice that, in contrast to `recordlinkage`, our post-blocking candidate pairs contain both the record ids as well as the record metadata."
      ]
    },
    {
      "cell_type": "code",
      "execution_count": 27,
      "metadata": {
        "id": "WluKPhKSG5dK",
        "colab": {
          "base_uri": "https://localhost:8080/",
          "height": 170
        },
        "outputId": "6b0fb9ef-4b5c-444d-c81e-60431f20846e"
      },
      "outputs": [
        {
          "output_type": "error",
          "ename": "IndexError",
          "evalue": "ignored",
          "traceback": [
            "\u001b[0;31m---------------------------------------------------------------------------\u001b[0m",
            "\u001b[0;31mIndexError\u001b[0m                                Traceback (most recent call last)",
            "\u001b[0;32m<ipython-input-27-a8159886285c>\u001b[0m in \u001b[0;36m<module>\u001b[0;34m()\u001b[0m\n\u001b[0;32m----> 1\u001b[0;31m \u001b[0mcandidate_pairs\u001b[0m\u001b[0;34m[\u001b[0m\u001b[0;36m0\u001b[0m\u001b[0;34m]\u001b[0m\u001b[0;34m\u001b[0m\u001b[0;34m\u001b[0m\u001b[0m\n\u001b[0m",
            "\u001b[0;31mIndexError\u001b[0m: list index out of range"
          ]
        }
      ],
      "source": [
        "candidate_pairs[0]"
      ]
    },
    {
      "cell_type": "markdown",
      "metadata": {
        "id": "KdGjpxa1G5dL"
      },
      "source": [
        "We can assemble our candidate pair ids into an indexed pandas dataframe for easier comparision with our known true links."
      ]
    },
    {
      "cell_type": "code",
      "execution_count": null,
      "metadata": {
        "id": "arZG7nZ0G5dL"
      },
      "outputs": [],
      "source": [
        "df_candidate_links = pd.DataFrame(\n",
        "    [(x[0][0], x[1][0]) for x in candidate_pairs]\n",
        ").rename(columns={0 : \"person_id_A\", 1 : \"person_id_B\"}).set_index([\"person_id_A\", \"person_id_B\"])\n",
        "\n",
        "df_candidate_links.head()"
      ]
    },
    {
      "cell_type": "markdown",
      "metadata": {
        "id": "RJFF7UIFG5dM"
      },
      "source": [
        "Now, let's take a look at our learned blocker performance."
      ]
    },
    {
      "cell_type": "code",
      "execution_count": null,
      "metadata": {
        "id": "kTGLDOW3G5dM"
      },
      "outputs": [],
      "source": [
        "max_candidate_pairs = df_A.shape[0]*df_B.shape[0]\n",
        "\n",
        "print(f\"{max_candidate_pairs:,} total possible pairs.\")\n",
        "\n",
        "# Calculate search space reduction.\n",
        "search_space_reduction = round(1 - len(candidate_pairs)/max_candidate_pairs, 6)\n",
        "print(f\"\\n{len(candidate_pairs):,} pairs after full blocking: {search_space_reduction}% search space reduction.\")\n",
        "\n",
        "# Calculate retained true links percentage.\n",
        "total_true_links = df_ground_truth.shape[0]\n",
        "true_links_after_blocking = pd.merge(\n",
        "    df_ground_truth,\n",
        "    df_candidate_links,\n",
        "    left_index=True,\n",
        "    right_index=True,\n",
        "    how=\"inner\"\n",
        ").shape[0]\n",
        "\n",
        "retained_true_link_percent = round((true_links_after_blocking/total_true_links) * 100, 2)\n",
        "print(f\"{retained_true_link_percent}% true links retained after blocking.\")"
      ]
    },
    {
      "cell_type": "markdown",
      "metadata": {
        "id": "JunVP8E7G5dN"
      },
      "source": [
        "## Score Pairs and Examine Learned Classifier"
      ]
    },
    {
      "cell_type": "markdown",
      "metadata": {
        "id": "CptmqCqAG5dN"
      },
      "source": [
        "After `dedupe` has trained blockers and a classification model based on our labeling session, we can link the records in our training dataset via the `.join` method."
      ]
    },
    {
      "cell_type": "code",
      "execution_count": null,
      "metadata": {
        "id": "5Yuu1uSXG5dO"
      },
      "outputs": [],
      "source": [
        "%%time\n",
        "linked_records = linker.join(records_A, records_B, threshold=0.0, constraint=\"one-to-one\")"
      ]
    },
    {
      "cell_type": "markdown",
      "metadata": {
        "id": "NzjyfxhFG5dO"
      },
      "source": [
        "`linker.join` will return the links, along with a model confidence."
      ]
    },
    {
      "cell_type": "code",
      "execution_count": null,
      "metadata": {
        "id": "ND0VLWb0G5dO"
      },
      "outputs": [],
      "source": [
        "linked_records[0:3]"
      ]
    },
    {
      "cell_type": "markdown",
      "metadata": {
        "id": "k5jn5dGIG5dP"
      },
      "source": [
        "We'll format the `dedupe` linker predictions into a format that we can use with our existing evaluation functions."
      ]
    },
    {
      "cell_type": "code",
      "execution_count": null,
      "metadata": {
        "id": "am5aTndPG5dP"
      },
      "outputs": [],
      "source": [
        "df_predictions = pd.DataFrame(\n",
        "    [ {\"person_id_A\" : x[0][0], \"person_id_B\" : x[0][1], \"model_score\" : x[1]} for x in linked_records]\n",
        ")\n",
        "\n",
        "df_predictions = df_predictions.set_index([\"person_id_A\", \"person_id_B\"])\n",
        "\n",
        "df_predictions = pd.merge(\n",
        "    df_predictions,\n",
        "    df_ground_truth,\n",
        "    left_index=True,\n",
        "    right_index=True,\n",
        "    how=\"left\",\n",
        ")\n",
        "\n",
        "df_predictions[\"ground_truth\"].fillna(False, inplace=True)\n",
        "df_predictions"
      ]
    },
    {
      "cell_type": "markdown",
      "metadata": {
        "id": "Jyjc_h1cG5dP"
      },
      "source": [
        "## Choosing a Linking Model Score Threshold"
      ]
    },
    {
      "cell_type": "markdown",
      "metadata": {
        "id": "t5cBCYpWG5dQ"
      },
      "source": [
        "The `dedupe` `.join` method that we used to score our training data directly incorporates the learned blockers. Thus, note that the scored pairs appearing on the distribution represent blocked pairs, and that our blockers *significantly* reduced the candidate pair search space."
      ]
    },
    {
      "cell_type": "markdown",
      "metadata": {
        "id": "CMPPXhplG5dQ"
      },
      "source": [
        "### Model Score Distribution"
      ]
    },
    {
      "cell_type": "code",
      "execution_count": null,
      "metadata": {
        "id": "EIXI16HqG5dQ"
      },
      "outputs": [],
      "source": [
        "df_predictions[\"ground_truth\"].value_counts()"
      ]
    },
    {
      "cell_type": "code",
      "execution_count": null,
      "metadata": {
        "id": "zFpXbswrG5dQ"
      },
      "outputs": [],
      "source": [
        "tutorial.plot_model_score_distribution(df_predictions)"
      ]
    },
    {
      "cell_type": "markdown",
      "metadata": {
        "id": "FNnrmZAvG5dR"
      },
      "source": [
        "### Precision and Recall vs. Model Score"
      ]
    },
    {
      "cell_type": "code",
      "execution_count": null,
      "metadata": {
        "id": "ErKDr_3mG5dR"
      },
      "outputs": [],
      "source": [
        "df_eval = tutorial.evaluate_linking(\n",
        "    df=df_predictions\n",
        ")"
      ]
    },
    {
      "cell_type": "code",
      "execution_count": null,
      "metadata": {
        "id": "wa9K01wSG5dR"
      },
      "outputs": [],
      "source": [
        "df_eval.head()"
      ]
    },
    {
      "cell_type": "code",
      "execution_count": null,
      "metadata": {
        "id": "HXb3z-llG5dS"
      },
      "outputs": [],
      "source": [
        "tutorial.plot_precision_recall_vs_threshold(df_eval)"
      ]
    },
    {
      "cell_type": "markdown",
      "metadata": {
        "id": "9lJsOj7TG5dS"
      },
      "source": [
        "## Iterating with Active Learning"
      ]
    },
    {
      "cell_type": "markdown",
      "metadata": {
        "id": "rIZmAhbqG5dS"
      },
      "source": [
        "When using active learning, we iterate on our linking solution, and incorporate progressively more labeled training data. Perhaps we're not satisfied with the current performance of the blockers or classifier, and we'd like to create more labeled examples for dedupe to train on.\n",
        "\n",
        "Recall that earlier, we saved off our existing training data from the first labeling session. We can load this persisted data into a `dedupe` linker, and kick off another labeling session. Perhaps, after investigating the data during our first cycle, we don't think that dedupe should include `address_1` and `address2` in its comparators."
      ]
    },
    {
      "cell_type": "markdown",
      "metadata": {
        "id": "VmJJ6xB6G5dS"
      },
      "source": [
        "### Tweak the Linker and Use Existing Training Data"
      ]
    },
    {
      "cell_type": "code",
      "execution_count": null,
      "metadata": {
        "id": "8fyPAYcNG5dS"
      },
      "outputs": [],
      "source": [
        "%%time\n",
        "\n",
        "fields = [\n",
        "    { \"field\" : \"first_name\", \"type\" : \"Name\" },\n",
        "    { \"field\" : \"surname\", \"type\" : \"Name\" },\n",
        "    { \"field\" : \"suburb\", \"type\" : \"ShortString\" },\n",
        "    { \"field\" : \"postcode\", \"type\" : \"Exact\" },\n",
        "    { \"field\" : \"state\", \"type\" : \"Exact\" },\n",
        "    { \"field\" : \"date_of_birth\", \"type\" : \"DateTime\" },\n",
        "    { \"field\" : \"soc_sec_id\", \"type\" : \"Exact\" },\n",
        "]\n",
        "\n",
        "linker2 = dedupe.RecordLink(fields)\n",
        "\n",
        "with open(TRAINING_FILE, \"r\") as fh:\n",
        "    linker2.prepare_training(records_A, records_B, training_file=fh)"
      ]
    },
    {
      "cell_type": "markdown",
      "metadata": {
        "id": "cI5snRSNG5dT"
      },
      "source": [
        "Now, we can kick off a second active learning/labeling session."
      ]
    },
    {
      "cell_type": "code",
      "execution_count": null,
      "metadata": {
        "id": "EWgpValjG5dT"
      },
      "outputs": [],
      "source": [
        "dedupe.console_label(linker2)"
      ]
    },
    {
      "cell_type": "markdown",
      "metadata": {
        "id": "-goVAIznG5dT"
      },
      "source": [
        "### Retrain the Linker and Examine Blocking Performance"
      ]
    },
    {
      "cell_type": "markdown",
      "metadata": {
        "id": "qaVolniOG5dU"
      },
      "source": [
        "Now, let's retrain, and examine blocker performance. Ideally, we see an improved true link retention following our second labeling session."
      ]
    },
    {
      "cell_type": "code",
      "execution_count": null,
      "metadata": {
        "id": "bLPAWc4zG5dU"
      },
      "outputs": [],
      "source": [
        "%%time\n",
        "linker2.train()"
      ]
    },
    {
      "cell_type": "code",
      "execution_count": null,
      "metadata": {
        "id": "Wc-tY-NwG5dU"
      },
      "outputs": [],
      "source": [
        "candidate_pairs = [x for x in linker2.pairs(records_A, records_B)]\n",
        "print(f\"{len(candidate_pairs):,} candidate pairs generated from blocking.\")\n",
        "\n",
        "df_candidate_links = pd.DataFrame(\n",
        "    [(x[0][0], x[1][0]) for x in candidate_pairs]\n",
        ").rename(columns={0 : \"person_id_A\", 1 : \"person_id_B\"}).set_index([\"person_id_A\", \"person_id_B\"])\n",
        "\n",
        "max_candidate_pairs = df_A.shape[0]*df_B.shape[0]\n",
        "\n",
        "print(f\"{max_candidate_pairs:,} total possible pairs.\")\n",
        "\n",
        "# Calculate search space reduction.\n",
        "search_space_reduction = round(1 - len(candidate_pairs)/max_candidate_pairs, 6)\n",
        "print(f\"\\n{len(candidate_pairs):,} pairs after full blocking: {search_space_reduction}% search space reduction.\")\n",
        "\n",
        "# Calculate retained true links percentage.\n",
        "total_true_links = df_ground_truth.shape[0]\n",
        "true_links_after_blocking = pd.merge(\n",
        "    df_ground_truth,\n",
        "    df_candidate_links,\n",
        "    left_index=True,\n",
        "    right_index=True,\n",
        "    how=\"inner\"\n",
        ").shape[0]\n",
        "\n",
        "retained_true_link_percent = round((true_links_after_blocking/total_true_links) * 100, 2)\n",
        "print(f\"{retained_true_link_percent}% true links retained after blocking.\")"
      ]
    },
    {
      "cell_type": "markdown",
      "metadata": {
        "id": "LSxIWYktG5dV"
      },
      "source": [
        "### Evaluate Classification Performance"
      ]
    },
    {
      "cell_type": "code",
      "execution_count": null,
      "metadata": {
        "id": "y_aGbkxdG5dV"
      },
      "outputs": [],
      "source": [
        "%%time\n",
        "linked_records = linker2.join(records_A, records_B, threshold=0.0, constraint=\"one-to-one\")"
      ]
    },
    {
      "cell_type": "code",
      "execution_count": null,
      "metadata": {
        "id": "otdbKRXkG5dV"
      },
      "outputs": [],
      "source": [
        "df_predictions = pd.DataFrame(\n",
        "    [ {\"person_id_A\" : x[0][0], \"person_id_B\" : x[0][1], \"model_score\" : x[1]} for x in linked_records]\n",
        ")\n",
        "\n",
        "df_predictions = df_predictions.set_index([\"person_id_A\", \"person_id_B\"])\n",
        "\n",
        "df_predictions = pd.merge(\n",
        "    df_predictions,\n",
        "    df_ground_truth,\n",
        "    left_index=True,\n",
        "    right_index=True,\n",
        "    how=\"left\",\n",
        ")\n",
        "\n",
        "df_predictions[\"ground_truth\"].fillna(False, inplace=True)\n",
        "df_predictions"
      ]
    },
    {
      "cell_type": "code",
      "execution_count": null,
      "metadata": {
        "id": "_mlJEHf_G5dV"
      },
      "outputs": [],
      "source": [
        "df_predictions[\"ground_truth\"].value_counts()"
      ]
    },
    {
      "cell_type": "code",
      "execution_count": null,
      "metadata": {
        "id": "VSFEdQceG5dW"
      },
      "outputs": [],
      "source": [
        "tutorial.plot_model_score_distribution(df_predictions)"
      ]
    },
    {
      "cell_type": "code",
      "execution_count": null,
      "metadata": {
        "id": "t5f3aV5GG5dW"
      },
      "outputs": [],
      "source": [
        "df_eval = tutorial.evaluate_linking(\n",
        "    df=df_predictions\n",
        ")\n",
        "\n",
        "tutorial.plot_precision_recall_vs_threshold(df_eval)"
      ]
    },
    {
      "cell_type": "code",
      "execution_count": null,
      "metadata": {
        "id": "MN1sdbCgG5dW"
      },
      "outputs": [],
      "source": [
        ""
      ]
    }
  ],
  "metadata": {
    "kernelspec": {
      "display_name": "linking",
      "language": "python",
      "name": "linking"
    },
    "language_info": {
      "codemirror_mode": {
        "name": "ipython",
        "version": 3
      },
      "file_extension": ".py",
      "mimetype": "text/x-python",
      "name": "python",
      "nbconvert_exporter": "python",
      "pygments_lexer": "ipython3",
      "version": "3.8.6"
    },
    "colab": {
      "name": "FEBRL Data with Active Learning",
      "provenance": [],
      "include_colab_link": true
    }
  },
  "nbformat": 4,
  "nbformat_minor": 0
}